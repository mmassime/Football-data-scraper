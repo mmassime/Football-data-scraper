{
 "cells": [
  {
   "cell_type": "code",
   "execution_count": 94,
   "id": "04536e72",
   "metadata": {},
   "outputs": [],
   "source": [
    "from bs4 import BeautifulSoup\n",
    "import requests\n"
   ]
  },
  {
   "cell_type": "markdown",
   "id": "2374e36f",
   "metadata": {},
   "source": [
    "## Get all premier league teams"
   ]
  },
  {
   "cell_type": "code",
   "execution_count": 93,
   "id": "781db28e",
   "metadata": {},
   "outputs": [
    {
     "name": "stdout",
     "output_type": "stream",
     "text": [
      "['Arsenal', 'Manchester City', 'Newcastle Utd', 'Manchester Utd', 'Tottenham', 'Aston Villa', 'Liverpool', 'Brighton', 'Fulham', 'Brentford', 'Chelsea', 'Crystal Palace', 'West Ham', 'Wolves', 'Bournemouth', 'Leeds United', 'Leicester City', 'Everton', \"Nott'ham Forest\", 'Southampton']\n"
     ]
    }
   ],
   "source": [
    "def get_teams():\n",
    "    html_pl_teams = requests.get('https://fbref.com/en/comps/9/Premier-League-Stats').text\n",
    "    soup = BeautifulSoup(html_pl_teams, 'lxml')\n",
    "    teams_soup = soup.find_all('table', class_='stats_table sortable min_width force_mobilize')[1]\n",
    "    teams_soup_teams = teams_soup.find_all('a')\n",
    "    teams_soup_img = teams_soup.find_all('img')\n",
    "    teams = []\n",
    "\n",
    "    for team, img in zip(teams_soup_teams, teams_soup_img):\n",
    "        teams.append(team.text)\n",
    "\n",
    "        img_data = requests.get(img['src']).content \n",
    "\n",
    "        with open(f'img/{team.text}.jpg', 'wb') as handler: \n",
    "\n",
    "               handler.write(img_data)\n",
    "    return teams\n",
    "\n",
    "print(get_teams())"
   ]
  }
 ],
 "metadata": {
  "kernelspec": {
   "display_name": "Python [conda env:football]",
   "language": "python",
   "name": "conda-env-football-py"
  },
  "language_info": {
   "codemirror_mode": {
    "name": "ipython",
    "version": 3
   },
   "file_extension": ".py",
   "mimetype": "text/x-python",
   "name": "python",
   "nbconvert_exporter": "python",
   "pygments_lexer": "ipython3",
   "version": "3.11.3"
  }
 },
 "nbformat": 4,
 "nbformat_minor": 5
}
